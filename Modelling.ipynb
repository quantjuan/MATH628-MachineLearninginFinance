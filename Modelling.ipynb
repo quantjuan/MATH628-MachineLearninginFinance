{
 "cells": [
  {
   "cell_type": "markdown",
   "metadata": {},
   "source": [
    "MATH628  \n",
    "Group 4"
   ]
  },
  {
   "cell_type": "markdown",
   "metadata": {},
   "source": [
    "# Data Preprocessing"
   ]
  },
  {
   "cell_type": "code",
   "execution_count": 1,
   "metadata": {},
   "outputs": [],
   "source": [
    "import os\n",
    "import numpy as np\n",
    "import pandas as pd\n",
    "import matplotlib.pyplot as plt\n",
    "import seaborn as sns\n",
    "from decimal import ROUND_HALF_UP, Decimal\n",
    "import scipy.stats as si\n",
    "from scipy import stats\n",
    "from sklearn import preprocessing\n",
    "\n",
    "from sklearn.ensemble import RandomForestRegressor\n",
    "from sklearn.model_selection import GridSearchCV\n",
    "import lightgbm as lgb\n",
    "\n",
    "import warnings\n",
    "warnings.filterwarnings('ignore')"
   ]
  },
  {
   "cell_type": "markdown",
   "metadata": {},
   "source": [
    "## Stock data adjustment"
   ]
  },
  {
   "cell_type": "code",
   "execution_count": 2,
   "metadata": {},
   "outputs": [],
   "source": [
    "origin_dir = r\"D:\\UMICH\\Semester 2\\MATH 628\\final project\\project\\data\"\n",
    "my_dir = r\"D:\\UMICH\\Semester 2\\MATH 628\\final project\\project\\data\\train_files\""
   ]
  },
  {
   "cell_type": "code",
   "execution_count": 3,
   "metadata": {},
   "outputs": [],
   "source": [
    "stock_df = pd.read_csv(os.path.join(my_dir, 'stock_prices.csv'), parse_dates=[\"Date\"])"
   ]
  },
  {
   "cell_type": "code",
   "execution_count": 4,
   "metadata": {},
   "outputs": [],
   "source": [
    "def adjust_price(price):\n",
    "    \"\"\"reference: https://www.kaggle.com/code/metathesis/feature-engineering-training-with-ta/notebook#Introduction-of-features-using-stock-price-data\"\"\"\n",
    "    # set date to standard format\n",
    "    price.loc[: ,\"Date\"] = pd.to_datetime(price.loc[: ,\"Date\"], format=\"%Y-%m-%d\")\n",
    "    \n",
    "    def generate_adjusted_close(df):\n",
    "        df = df.sort_values(\"Date\", ascending=False)\n",
    "        # generate CumulativeAdjustmentFactor\n",
    "        df.loc[:, \"CumulativeAdjustmentFactor\"] = df[\"AdjustmentFactor\"].cumprod()\n",
    "        # generate AdjustedClose\n",
    "        df.loc[:, \"AdjustedClose\"] = (\n",
    "            df[\"CumulativeAdjustmentFactor\"] * df[\"Close\"]\n",
    "        ).map(lambda x: float(\n",
    "            Decimal(str(x)).quantize(Decimal('0.1'), rounding=ROUND_HALF_UP)\n",
    "        ))\n",
    "        # reverse order\n",
    "        df = df.sort_values(\"Date\")\n",
    "        # to fill AdjustedClose, replace 0 into np.nan\n",
    "        df.loc[df[\"AdjustedClose\"] == 0, \"AdjustedClose\"] = np.nan\n",
    "        # forward fill AdjustedClose\n",
    "        df.loc[:, \"AdjustedClose\"] = df.loc[:, \"AdjustedClose\"].ffill()\n",
    "        return df\n",
    "\n",
    "    # generate AdjustedClose\n",
    "    price = price.sort_values([\"SecuritiesCode\", \"Date\"])\n",
    "    price = price.groupby(\"SecuritiesCode\").apply(generate_adjusted_close).reset_index(drop=True)\n",
    "    \n",
    "    price.set_index(\"Date\", inplace=True)\n",
    "    return price"
   ]
  },
  {
   "cell_type": "code",
   "execution_count": 5,
   "metadata": {},
   "outputs": [],
   "source": [
    "stock_df = adjust_price(stock_df)\n",
    "stock_df.drop(columns=[\"AdjustmentFactor\", \"ExpectedDividend\", \"SupervisionFlag\", \"CumulativeAdjustmentFactor\"], inplace=True)"
   ]
  },
  {
   "cell_type": "code",
   "execution_count": 6,
   "metadata": {},
   "outputs": [
    {
     "data": {
      "text/html": [
       "<div>\n",
       "<style scoped>\n",
       "    .dataframe tbody tr th:only-of-type {\n",
       "        vertical-align: middle;\n",
       "    }\n",
       "\n",
       "    .dataframe tbody tr th {\n",
       "        vertical-align: top;\n",
       "    }\n",
       "\n",
       "    .dataframe thead th {\n",
       "        text-align: right;\n",
       "    }\n",
       "</style>\n",
       "<table border=\"1\" class=\"dataframe\">\n",
       "  <thead>\n",
       "    <tr style=\"text-align: right;\">\n",
       "      <th></th>\n",
       "      <th>RowId</th>\n",
       "      <th>SecuritiesCode</th>\n",
       "      <th>Open</th>\n",
       "      <th>High</th>\n",
       "      <th>Low</th>\n",
       "      <th>Close</th>\n",
       "      <th>Volume</th>\n",
       "      <th>Target</th>\n",
       "      <th>AdjustedClose</th>\n",
       "    </tr>\n",
       "    <tr>\n",
       "      <th>Date</th>\n",
       "      <th></th>\n",
       "      <th></th>\n",
       "      <th></th>\n",
       "      <th></th>\n",
       "      <th></th>\n",
       "      <th></th>\n",
       "      <th></th>\n",
       "      <th></th>\n",
       "      <th></th>\n",
       "    </tr>\n",
       "  </thead>\n",
       "  <tbody>\n",
       "    <tr>\n",
       "      <th>2017-01-04</th>\n",
       "      <td>20170104_1301</td>\n",
       "      <td>1301</td>\n",
       "      <td>2734.0</td>\n",
       "      <td>2755.0</td>\n",
       "      <td>2730.0</td>\n",
       "      <td>2742.0</td>\n",
       "      <td>31400</td>\n",
       "      <td>0.000730</td>\n",
       "      <td>2742.0</td>\n",
       "    </tr>\n",
       "    <tr>\n",
       "      <th>2017-01-05</th>\n",
       "      <td>20170105_1301</td>\n",
       "      <td>1301</td>\n",
       "      <td>2743.0</td>\n",
       "      <td>2747.0</td>\n",
       "      <td>2735.0</td>\n",
       "      <td>2738.0</td>\n",
       "      <td>17900</td>\n",
       "      <td>0.002920</td>\n",
       "      <td>2738.0</td>\n",
       "    </tr>\n",
       "    <tr>\n",
       "      <th>2017-01-06</th>\n",
       "      <td>20170106_1301</td>\n",
       "      <td>1301</td>\n",
       "      <td>2734.0</td>\n",
       "      <td>2744.0</td>\n",
       "      <td>2720.0</td>\n",
       "      <td>2740.0</td>\n",
       "      <td>19900</td>\n",
       "      <td>-0.001092</td>\n",
       "      <td>2740.0</td>\n",
       "    </tr>\n",
       "    <tr>\n",
       "      <th>2017-01-10</th>\n",
       "      <td>20170110_1301</td>\n",
       "      <td>1301</td>\n",
       "      <td>2745.0</td>\n",
       "      <td>2754.0</td>\n",
       "      <td>2735.0</td>\n",
       "      <td>2748.0</td>\n",
       "      <td>24200</td>\n",
       "      <td>-0.005100</td>\n",
       "      <td>2748.0</td>\n",
       "    </tr>\n",
       "    <tr>\n",
       "      <th>2017-01-11</th>\n",
       "      <td>20170111_1301</td>\n",
       "      <td>1301</td>\n",
       "      <td>2748.0</td>\n",
       "      <td>2752.0</td>\n",
       "      <td>2737.0</td>\n",
       "      <td>2745.0</td>\n",
       "      <td>9300</td>\n",
       "      <td>-0.003295</td>\n",
       "      <td>2745.0</td>\n",
       "    </tr>\n",
       "  </tbody>\n",
       "</table>\n",
       "</div>"
      ],
      "text/plain": [
       "                    RowId  SecuritiesCode    Open    High     Low   Close  \\\n",
       "Date                                                                        \n",
       "2017-01-04  20170104_1301            1301  2734.0  2755.0  2730.0  2742.0   \n",
       "2017-01-05  20170105_1301            1301  2743.0  2747.0  2735.0  2738.0   \n",
       "2017-01-06  20170106_1301            1301  2734.0  2744.0  2720.0  2740.0   \n",
       "2017-01-10  20170110_1301            1301  2745.0  2754.0  2735.0  2748.0   \n",
       "2017-01-11  20170111_1301            1301  2748.0  2752.0  2737.0  2745.0   \n",
       "\n",
       "            Volume    Target  AdjustedClose  \n",
       "Date                                         \n",
       "2017-01-04   31400  0.000730         2742.0  \n",
       "2017-01-05   17900  0.002920         2738.0  \n",
       "2017-01-06   19900 -0.001092         2740.0  \n",
       "2017-01-10   24200 -0.005100         2748.0  \n",
       "2017-01-11    9300 -0.003295         2745.0  "
      ]
     },
     "execution_count": 6,
     "metadata": {},
     "output_type": "execute_result"
    }
   ],
   "source": [
    "stock_df.head()"
   ]
  },
  {
   "cell_type": "markdown",
   "metadata": {},
   "source": [
    "## Option data"
   ]
  },
  {
   "cell_type": "code",
   "execution_count": null,
   "metadata": {},
   "outputs": [],
   "source": [
    "options_df = pd.read_csv(os.path.join(my_dir, 'options.csv'), parse_dates=[\"Date\"])"
   ]
  },
  {
   "cell_type": "code",
   "execution_count": null,
   "metadata": {},
   "outputs": [],
   "source": [
    "options_df.head()"
   ]
  },
  {
   "cell_type": "code",
   "execution_count": null,
   "metadata": {},
   "outputs": [],
   "source": [
    "options_df.columns"
   ]
  },
  {
   "cell_type": "markdown",
   "metadata": {},
   "source": [
    "### Underlying asset\n",
    "Choose 1321 in the secondary stock price file as our underlying asset prices."
   ]
  },
  {
   "cell_type": "code",
   "execution_count": null,
   "metadata": {},
   "outputs": [],
   "source": [
    "underlying_etf = pd.read_csv(os.path.join(my_dir, 'secondary_stock_prices.csv'))\n",
    "underlying_etf = underlying_etf[underlying_etf.SecuritiesCode.isin([1321])]\n",
    "underlying_etf = adjust_price(underlying_etf)\n",
    "underlying_etf.drop(columns=[\"AdjustmentFactor\", \"ExpectedDividend\", \"SupervisionFlag\", \"CumulativeAdjustmentFactor\"], inplace=True)"
   ]
  },
  {
   "cell_type": "code",
   "execution_count": null,
   "metadata": {},
   "outputs": [],
   "source": [
    "underlying_etf.head()"
   ]
  },
  {
   "cell_type": "markdown",
   "metadata": {},
   "source": [
    "# Feature Engineering"
   ]
  },
  {
   "cell_type": "markdown",
   "metadata": {},
   "source": [
    "## Stock features"
   ]
  },
  {
   "cell_type": "code",
   "execution_count": null,
   "metadata": {},
   "outputs": [],
   "source": [
    "feats_stock = pd.DataFrame(stock_df[[\"SecuritiesCode\", \"Target\"]], index=stock_df.index)"
   ]
  },
  {
   "cell_type": "markdown",
   "metadata": {},
   "source": [
    "### Momentum factors"
   ]
  },
  {
   "cell_type": "code",
   "execution_count": null,
   "metadata": {},
   "outputs": [],
   "source": [
    "feats_stock[\"return_10d\"] = stock_df[[\"SecuritiesCode\", \"AdjustedClose\"]].groupby([\"SecuritiesCode\"]).pct_change(10)\n",
    "feats_stock[\"return_60d\"] = stock_df[[\"SecuritiesCode\", \"AdjustedClose\"]].groupby([\"SecuritiesCode\"]).pct_change(60)\n",
    "feats_stock[\"return_70d\"] = stock_df[[\"SecuritiesCode\", \"AdjustedClose\"]].groupby([\"SecuritiesCode\"]).pct_change(70)\n",
    "feats_stock[\"return_90d\"] = stock_df[[\"SecuritiesCode\", \"AdjustedClose\"]].groupby([\"SecuritiesCode\"]).pct_change(90)"
   ]
  },
  {
   "cell_type": "code",
   "execution_count": null,
   "metadata": {},
   "outputs": [],
   "source": [
    "feats_stock[\"MA_10d\"] = stock_df[\"AdjustedClose\"] / stock_df[[\"SecuritiesCode\", \"AdjustedClose\"]].groupby([\"SecuritiesCode\"], as_index=False).rolling(10).mean()[\"AdjustedClose\"]\n",
    "feats_stock[\"MA_40d\"] = stock_df[\"AdjustedClose\"] / stock_df[[\"SecuritiesCode\", \"AdjustedClose\"]].groupby([\"SecuritiesCode\"], as_index=False).rolling(40).mean()[\"AdjustedClose\"]\n",
    "feats_stock[\"MA_50d\"] = stock_df[\"AdjustedClose\"] / stock_df[[\"SecuritiesCode\", \"AdjustedClose\"]].groupby([\"SecuritiesCode\"], as_index=False).rolling(50).mean()[\"AdjustedClose\"]\n",
    "feats_stock[\"MA_90d\"] = stock_df[\"AdjustedClose\"] / stock_df[[\"SecuritiesCode\", \"AdjustedClose\"]].groupby([\"SecuritiesCode\"], as_index=False).rolling(90).mean()[\"AdjustedClose\"]"
   ]
  },
  {
   "cell_type": "markdown",
   "metadata": {},
   "source": [
    "### Volatility factors"
   ]
  },
  {
   "cell_type": "code",
   "execution_count": null,
   "metadata": {},
   "outputs": [],
   "source": [
    "feats_stock[\"volatility_20d\"] = np.log(stock_df[[\"SecuritiesCode\", \"AdjustedClose\"]]).groupby([\"SecuritiesCode\"], as_index=False)[\"AdjustedClose\"].diff().rolling(20).std()\n",
    "feats_stock[\"volatility_50d\"] = np.log(stock_df[[\"SecuritiesCode\", \"AdjustedClose\"]]).groupby([\"SecuritiesCode\"], as_index=False)[\"AdjustedClose\"].diff().rolling(50).std()\n",
    "feats_stock[\"volatility_60d\"] = np.log(stock_df[[\"SecuritiesCode\", \"AdjustedClose\"]]).groupby([\"SecuritiesCode\"], as_index=False)[\"AdjustedClose\"].diff().rolling(60).std()\n",
    "feats_stock[\"volatility_80d\"] = np.log(stock_df[[\"SecuritiesCode\", \"AdjustedClose\"]]).groupby([\"SecuritiesCode\"], as_index=False)[\"AdjustedClose\"].diff().rolling(80).std()"
   ]
  },
  {
   "cell_type": "code",
   "execution_count": null,
   "metadata": {},
   "outputs": [],
   "source": [
    "feats_stock.tail()"
   ]
  },
  {
   "cell_type": "markdown",
   "metadata": {},
   "source": [
    "## Option features"
   ]
  },
  {
   "cell_type": "code",
   "execution_count": null,
   "metadata": {},
   "outputs": [],
   "source": [
    "feats_option = pd.DataFrame(index=stock_df.index).reset_index().groupby([\"Date\"]).mean()"
   ]
  },
  {
   "cell_type": "markdown",
   "metadata": {},
   "source": [
    "### Moneyness Factor"
   ]
  },
  {
   "cell_type": "code",
   "execution_count": null,
   "metadata": {},
   "outputs": [],
   "source": [
    "strike_price = pd.merge(options_df.set_index(\"Date\")[[\"Putcall\", \"StrikePrice\"]], underlying_etf[\"AdjustedClose\"], right_index=True, left_index=True)\n",
    "strike_price[\"Putcall\"] = strike_price[\"Putcall\"].apply(lambda x: -1 if x==1 else 1)\n",
    "strike_price[\"moneyness\"] = (strike_price[\"Putcall\"] * (strike_price[\"AdjustedClose\"]-strike_price[\"StrikePrice\"])) > 0"
   ]
  },
  {
   "cell_type": "code",
   "execution_count": null,
   "metadata": {},
   "outputs": [],
   "source": [
    "feats_option[\"moneyness\"] = strike_price.reset_index()[[\"Date\", \"moneyness\"]].groupby([\"Date\"]).mean()"
   ]
  },
  {
   "cell_type": "markdown",
   "metadata": {},
   "source": [
    "### StrikeVolatility Factor"
   ]
  },
  {
   "cell_type": "code",
   "execution_count": null,
   "metadata": {},
   "outputs": [],
   "source": [
    "options_df.loc[: ,\"LastTradingDay\"] = pd.to_datetime(options_df.loc[: ,\"LastTradingDay\"], format=\"%Y%m%d\")\n",
    "options_df[\"ExpireDays\"] = (options_df[\"LastTradingDay\"] - options_df[\"Date\"]).apply(lambda x: x.days)"
   ]
  },
  {
   "cell_type": "code",
   "execution_count": null,
   "metadata": {},
   "outputs": [],
   "source": [
    "std_strike = options_df.reset_index()[[\"Date\", \"StrikePrice\", \"ExpireDays\", \"InterestRate\"]]\n",
    "# we should discount strike price K here\n",
    "std_strike[\"DiscountedStrike\"] = std_strike[\"StrikePrice\"] * np.exp(-std_strike[\"InterestRate\"]*std_strike[\"ExpireDays\"])"
   ]
  },
  {
   "cell_type": "code",
   "execution_count": null,
   "metadata": {},
   "outputs": [],
   "source": [
    "feats_option[\"strike_vol\"] = std_strike[[\"Date\", \"DiscountedStrike\"]].groupby([\"Date\"]).std()"
   ]
  },
  {
   "cell_type": "markdown",
   "metadata": {},
   "source": [
    "### Liquidity Factor"
   ]
  },
  {
   "cell_type": "code",
   "execution_count": null,
   "metadata": {},
   "outputs": [],
   "source": [
    "liquidity = options_df[\"SettlementPrice\"] - options_df[\"TheoreticalPrice\"]\n",
    "liquidity = pd.concat([options_df[\"Date\"], pd.DataFrame(liquidity, columns=[\"liquidity\"])], axis=1)\n",
    "feats_option[\"liquidity\"] = liquidity.groupby([\"Date\"]).mean()"
   ]
  },
  {
   "cell_type": "markdown",
   "metadata": {},
   "source": [
    "### Volatility Factor"
   ]
  },
  {
   "cell_type": "code",
   "execution_count": null,
   "metadata": {},
   "outputs": [],
   "source": [
    "feats_option[\"historical_vol\"] = options_df[[\"Date\", \"BaseVolatility\"]].groupby([\"Date\"]).mean()"
   ]
  },
  {
   "cell_type": "code",
   "execution_count": null,
   "metadata": {},
   "outputs": [],
   "source": [
    "feats_option[\"implied_vol\"] = options_df[[\"Date\", \"ImpliedVolatility\"]].groupby([\"Date\"]).mean()"
   ]
  },
  {
   "cell_type": "markdown",
   "metadata": {},
   "source": [
    "### ImpliedVol Skewness Factor"
   ]
  },
  {
   "cell_type": "code",
   "execution_count": null,
   "metadata": {},
   "outputs": [],
   "source": [
    "implied_vol = pd.merge(options_df.set_index(\"Date\")[[\"Putcall\", \"StrikePrice\", \"ImpliedVolatility\"]], underlying_etf[\"AdjustedClose\"], right_index=True, left_index=True)\n",
    "implied_vol[\"Putcall\"] = implied_vol[\"Putcall\"].apply(lambda x: -1 if x==1 else 1)\n",
    "implied_vol_otm_call = implied_vol.apply(lambda x: x[2] if (x[0]==1 and x[3]<x[1]) else 0, axis=1)\n",
    "implied_vol_otm_put = implied_vol.apply(lambda x: x[2] if (x[0]==-1 and x[3]>x[1]) else 0, axis=1)"
   ]
  },
  {
   "cell_type": "code",
   "execution_count": null,
   "metadata": {},
   "outputs": [],
   "source": [
    "feats_option[\"implied_vol_skewness\"] = implied_vol_otm_call.reset_index().groupby([\"Date\"]).mean() / implied_vol_otm_put.reset_index().groupby([\"Date\"]).mean()"
   ]
  },
  {
   "cell_type": "markdown",
   "metadata": {},
   "source": [
    "### Trading Volume Factor"
   ]
  },
  {
   "cell_type": "code",
   "execution_count": null,
   "metadata": {},
   "outputs": [],
   "source": [
    "trading_volume = options_df[['Date', 'Putcall', 'TradingVolume']].groupby(['Date', 'Putcall']).sum().unstack()\n",
    "trading_volume = trading_volume[\"TradingVolume\"]\n",
    "trading_volume.rename(columns={1: \"Put\", 2: \"Call\"}, inplace=True)"
   ]
  },
  {
   "cell_type": "code",
   "execution_count": null,
   "metadata": {},
   "outputs": [],
   "source": [
    "feats_option[\"trading_volume\"] = trading_volume[\"Put\"] + trading_volume[\"Call\"]"
   ]
  },
  {
   "cell_type": "markdown",
   "metadata": {},
   "source": [
    "### Put Call Ratio Factor"
   ]
  },
  {
   "cell_type": "code",
   "execution_count": null,
   "metadata": {},
   "outputs": [],
   "source": [
    "feats_option[\"putcall_ratio\"] = trading_volume[\"Put\"] / trading_volume[\"Call\"]"
   ]
  },
  {
   "cell_type": "markdown",
   "metadata": {},
   "source": [
    "### BS model Greeks Factor "
   ]
  },
  {
   "cell_type": "code",
   "execution_count": null,
   "metadata": {},
   "outputs": [],
   "source": [
    "def d(s, k, r, T, sigma):\n",
    "    d1 = (np.log(s/k) + (r+0.5*sigma**2)*T) / (sigma*np.sqrt(T))\n",
    "    d2 = d1 - sigma*np.sqrt(T)\n",
    "    return (d1, d2)\n",
    "\n",
    "def delta(s, k, r, T, sigma, putcall):\n",
    "    # putcall==-1: put; putcall==1: call\n",
    "    (d1, d2) = d(s, k, r, T, sigma)\n",
    "    delta = putcall * si.norm.cdf(putcall*d1)\n",
    "    delta.rename(\"delta\", inplace=True)\n",
    "    return delta\n",
    "\n",
    "def gamma(s, k, r, T, sigma):\n",
    "    (d1, d2) = d(s, k, r, T, sigma)\n",
    "    gamma = si.norm.pdf(d1) / (s*sigma*np.sqrt(T))\n",
    "    gamma.rename(\"gamma\", inplace=True)\n",
    "    return gamma\n",
    "\n",
    "def vega(s, k, r, T, sigma):\n",
    "    (d1, d2) = d(s, k, r, T, sigma)\n",
    "    vega = (s*si.norm.pdf(d1) * np.sqrt(T))\n",
    "    vega.rename(\"vega\", inplace=True)\n",
    "    return vega\n",
    "\n",
    "def theta(s, k, r, T, sigma, putcall):\n",
    "    (d1, d2) = d(s, k, r, T, sigma)\n",
    "    theta = (-1*(s*si.norm.pdf(d1)*sigma) / (2*np.sqrt(T)) - putcall*r*k*np.exp(-r*T)*si.norm.cdf(putcall*d2)) / 365\n",
    "    theta.rename(\"theta\", inplace=True)\n",
    "    return theta"
   ]
  },
  {
   "cell_type": "code",
   "execution_count": null,
   "metadata": {},
   "outputs": [],
   "source": [
    "bs_params = pd.merge(options_df.set_index(\"Date\")[[\"Putcall\", \"StrikePrice\", \"BaseVolatility\", \"ImpliedVolatility\", \"InterestRate\", \"ExpireDays\"]], underlying_etf[\"AdjustedClose\"], right_index=True, left_index=True)\n",
    "bs_params[\"Putcall\"] = bs_params[\"Putcall\"].apply(lambda x: -1 if x==1 else 1)\n",
    "s = bs_params[\"AdjustedClose\"]\n",
    "k = bs_params[\"StrikePrice\"]\n",
    "r = bs_params[\"InterestRate\"]\n",
    "T = bs_params[\"ExpireDays\"]\n",
    "sigma = bs_params[\"ImpliedVolatility\"]\n",
    "putcall = bs_params[\"Putcall\"]"
   ]
  },
  {
   "cell_type": "code",
   "execution_count": null,
   "metadata": {},
   "outputs": [],
   "source": [
    "options_delta = delta(s, k, r, T, sigma, putcall)\n",
    "feats_option[\"delta\"] = options_delta.reset_index().groupby([\"Date\"]).mean()"
   ]
  },
  {
   "cell_type": "code",
   "execution_count": null,
   "metadata": {},
   "outputs": [],
   "source": [
    "options_theta = theta(s, k, r, T, sigma, putcall)\n",
    "feats_option[\"theta\"] = options_theta.reset_index().groupby([\"Date\"]).mean()"
   ]
  },
  {
   "cell_type": "code",
   "execution_count": null,
   "metadata": {},
   "outputs": [],
   "source": [
    "options_gamma = gamma(s, k, r, T, sigma)\n",
    "feats_option[\"gamma\"] = options_gamma.reset_index().groupby([\"Date\"]).mean()"
   ]
  },
  {
   "cell_type": "code",
   "execution_count": null,
   "metadata": {},
   "outputs": [],
   "source": [
    "options_vega = vega(s, k, r, T, sigma)\n",
    "feats_option[\"vega\"] = options_vega.reset_index().groupby([\"Date\"]).mean()"
   ]
  },
  {
   "cell_type": "markdown",
   "metadata": {},
   "source": [
    "### Open Interest Factor"
   ]
  },
  {
   "cell_type": "code",
   "execution_count": null,
   "metadata": {},
   "outputs": [],
   "source": [
    "feats_option[\"open_interest\"] = options_df[[\"Date\", \"OpenInterest\"]].groupby(\"Date\").mean()"
   ]
  },
  {
   "cell_type": "markdown",
   "metadata": {},
   "source": [
    "## Financials features"
   ]
  },
  {
   "cell_type": "code",
   "execution_count": null,
   "metadata": {},
   "outputs": [],
   "source": [
    "financials_df = pd.read_csv(os.path.join(my_dir, 'financials.csv'), parse_dates=[\"Date\"])\n",
    "\n",
    "financials_df.drop(np.where(financials_df[\"SecuritiesCode\"].isna())[0], inplace=True)\n",
    "financials_df.loc[: ,\"Date\"] = pd.to_datetime(financials_df.loc[: ,\"Date\"], format=\"%Y-%m-%d\")\n",
    "financials_df[\"SecuritiesCode\"] = financials_df[\"SecuritiesCode\"].apply(lambda x: int(x))\n",
    "financials_df.rename(columns={\"DateCode\": \"RowId\"}, inplace=True)\n",
    "financials_df = financials_df[financials_df.SecuritiesCode.isin(stock_df.SecuritiesCode)]\n",
    "financials_df.drop_duplicates(subset=[\"RowId\"], inplace=True)\n",
    "\n",
    "financials_df.head()"
   ]
  },
  {
   "cell_type": "code",
   "execution_count": null,
   "metadata": {},
   "outputs": [],
   "source": [
    "financials_df = pd.merge(stock_df.reset_index(), \n",
    "             financials_df[[\"RowId\", \"DisclosedDate\", \"MaterialChangesInSubsidiaries\", \n",
    "                            \"ChangesOtherThanOnesBasedOnRevisionsOfAccountingStandard\", \"ChangesBasedOnRevisionsOfAccountingStandard\", \n",
    "                            \"ChangesInAccountingEstimates\"]], \n",
    "             on=[\"RowId\"], how=\"left\")\n",
    "financials_df.head()"
   ]
  },
  {
   "cell_type": "code",
   "execution_count": null,
   "metadata": {},
   "outputs": [],
   "source": [
    "financials_df[\"MaterialChangesInSubsidiaries\"] = financials_df[\"MaterialChangesInSubsidiaries\"].apply(lambda x: 1 if x==True else -1 if x==False else 0)\n",
    "financials_df[\"is_sub_changed\"] = financials_df[\"MaterialChangesInSubsidiaries\"] + \\\n",
    "                                  financials_df.groupby([\"SecuritiesCode\"])[\"MaterialChangesInSubsidiaries\"].shift(1).fillna(0) + \\\n",
    "                                  financials_df.groupby([\"SecuritiesCode\"])[\"MaterialChangesInSubsidiaries\"].shift(2).fillna(0)"
   ]
  },
  {
   "cell_type": "code",
   "execution_count": null,
   "metadata": {},
   "outputs": [],
   "source": [
    "financials_df[\"ChangesBasedOnRevisionsOfAccountingStandard\"] = financials_df[\"ChangesBasedOnRevisionsOfAccountingStandard\"].apply(lambda x: 1 if x==True else -1 if x==False else 0)\n",
    "financials_df[\"is_acc_changed\"] = financials_df[\"ChangesBasedOnRevisionsOfAccountingStandard\"] + \\\n",
    "                                  financials_df.groupby([\"SecuritiesCode\"])[\"ChangesBasedOnRevisionsOfAccountingStandard\"].shift(1).fillna(0) + \\\n",
    "                                  financials_df.groupby([\"SecuritiesCode\"])[\"ChangesBasedOnRevisionsOfAccountingStandard\"].shift(2).fillna(0)"
   ]
  },
  {
   "cell_type": "code",
   "execution_count": null,
   "metadata": {},
   "outputs": [],
   "source": [
    "financials_df[\"ChangesOtherThanOnesBasedOnRevisionsOfAccountingStandard\"] = financials_df[\"ChangesOtherThanOnesBasedOnRevisionsOfAccountingStandard\"].apply(lambda x: 1 if x==True else -1 if x==False else 0)\n",
    "financials_df[\"is_acc_other_changed\"] = financials_df[\"ChangesOtherThanOnesBasedOnRevisionsOfAccountingStandard\"] + \\\n",
    "                                        financials_df.groupby([\"SecuritiesCode\"])[\"ChangesOtherThanOnesBasedOnRevisionsOfAccountingStandard\"].shift(1).fillna(0) + \\\n",
    "                                        financials_df.groupby([\"SecuritiesCode\"])[\"ChangesOtherThanOnesBasedOnRevisionsOfAccountingStandard\"].shift(2).fillna(0)"
   ]
  },
  {
   "cell_type": "code",
   "execution_count": null,
   "metadata": {},
   "outputs": [],
   "source": [
    "financials_df[\"ChangesInAccountingEstimates\"] = financials_df[\"ChangesInAccountingEstimates\"].apply(lambda x: 1 if x==True else -1 if x==False else 0)\n",
    "financials_df[\"is_acc_est\"] = financials_df[\"ChangesInAccountingEstimates\"] + \\\n",
    "                              financials_df.groupby([\"SecuritiesCode\"])[\"ChangesInAccountingEstimates\"].shift(1).fillna(0) + \\\n",
    "                              financials_df.groupby([\"SecuritiesCode\"])[\"ChangesInAccountingEstimates\"].shift(2).fillna(0)"
   ]
  },
  {
   "cell_type": "code",
   "execution_count": null,
   "metadata": {},
   "outputs": [],
   "source": [
    "financials_df = financials_df[[\"Date\", \"RowId\", \"SecuritiesCode\", \"is_sub_changed\", \"is_acc_changed\", \"is_acc_other_changed\", \"is_acc_est\"]]"
   ]
  },
  {
   "cell_type": "code",
   "execution_count": null,
   "metadata": {},
   "outputs": [],
   "source": [
    "financials_df.set_index(\"Date\", inplace=True)"
   ]
  },
  {
   "cell_type": "code",
   "execution_count": null,
   "metadata": {},
   "outputs": [],
   "source": [
    "# financials_df.to_csv(\"financials_df.csv\")"
   ]
  },
  {
   "cell_type": "markdown",
   "metadata": {},
   "source": [
    "## Feature Concatenate"
   ]
  },
  {
   "cell_type": "code",
   "execution_count": 78,
   "metadata": {},
   "outputs": [],
   "source": [
    "feats = pd.merge(feats_stock, feats_option, right_index=True, left_index=True)"
   ]
  },
  {
   "cell_type": "code",
   "execution_count": 81,
   "metadata": {},
   "outputs": [],
   "source": [
    "# feats.to_csv(\"feats.csv\")"
   ]
  },
  {
   "cell_type": "code",
   "execution_count": 2,
   "metadata": {},
   "outputs": [],
   "source": [
    "# feats = pd.read_csv(\"feats.csv\")\n",
    "# financials_df = pd.read_csv(\"financials_df.csv\")"
   ]
  },
  {
   "cell_type": "code",
   "execution_count": 3,
   "metadata": {},
   "outputs": [],
   "source": [
    "feats[\"is_acc_other_changed\"] = financials_df[\"is_acc_other_changed\"].values\n",
    "feats[\"is_sub_changed\"] = financials_df[\"is_sub_changed\"].values\n",
    "feats[\"is_acc_changed\"] = financials_df[\"is_acc_changed\"].values\n",
    "feats[\"is_acc_est\"] = financials_df[\"is_acc_est\"].values"
   ]
  },
  {
   "cell_type": "code",
   "execution_count": 4,
   "metadata": {},
   "outputs": [],
   "source": [
    "# feats.set_index(\"Date\", inplace=True)"
   ]
  },
  {
   "cell_type": "code",
   "execution_count": 5,
   "metadata": {},
   "outputs": [
    {
     "data": {
      "text/html": [
       "<div>\n",
       "<style scoped>\n",
       "    .dataframe tbody tr th:only-of-type {\n",
       "        vertical-align: middle;\n",
       "    }\n",
       "\n",
       "    .dataframe tbody tr th {\n",
       "        vertical-align: top;\n",
       "    }\n",
       "\n",
       "    .dataframe thead th {\n",
       "        text-align: right;\n",
       "    }\n",
       "</style>\n",
       "<table border=\"1\" class=\"dataframe\">\n",
       "  <thead>\n",
       "    <tr style=\"text-align: right;\">\n",
       "      <th></th>\n",
       "      <th>SecuritiesCode</th>\n",
       "      <th>Target</th>\n",
       "      <th>return_10d</th>\n",
       "      <th>return_60d</th>\n",
       "      <th>return_70d</th>\n",
       "      <th>return_90d</th>\n",
       "      <th>MA_10d</th>\n",
       "      <th>MA_40d</th>\n",
       "      <th>MA_50d</th>\n",
       "      <th>MA_90d</th>\n",
       "      <th>...</th>\n",
       "      <th>putcall_ratio</th>\n",
       "      <th>gamma</th>\n",
       "      <th>vega</th>\n",
       "      <th>delta</th>\n",
       "      <th>theta</th>\n",
       "      <th>open_interest</th>\n",
       "      <th>is_acc_other_changed</th>\n",
       "      <th>is_sub_changed</th>\n",
       "      <th>is_acc_changed</th>\n",
       "      <th>is_acc_est</th>\n",
       "    </tr>\n",
       "    <tr>\n",
       "      <th>Date</th>\n",
       "      <th></th>\n",
       "      <th></th>\n",
       "      <th></th>\n",
       "      <th></th>\n",
       "      <th></th>\n",
       "      <th></th>\n",
       "      <th></th>\n",
       "      <th></th>\n",
       "      <th></th>\n",
       "      <th></th>\n",
       "      <th></th>\n",
       "      <th></th>\n",
       "      <th></th>\n",
       "      <th></th>\n",
       "      <th></th>\n",
       "      <th></th>\n",
       "      <th></th>\n",
       "      <th></th>\n",
       "      <th></th>\n",
       "      <th></th>\n",
       "      <th></th>\n",
       "    </tr>\n",
       "  </thead>\n",
       "  <tbody>\n",
       "    <tr>\n",
       "      <th>2021-12-03</th>\n",
       "      <td>9990</td>\n",
       "      <td>0.034816</td>\n",
       "      <td>-0.067138</td>\n",
       "      <td>-0.052065</td>\n",
       "      <td>-0.020408</td>\n",
       "      <td>-0.128713</td>\n",
       "      <td>0.981778</td>\n",
       "      <td>0.937375</td>\n",
       "      <td>0.936104</td>\n",
       "      <td>0.935249</td>\n",
       "      <td>...</td>\n",
       "      <td>1.608986</td>\n",
       "      <td>2.969274e-08</td>\n",
       "      <td>149.319338</td>\n",
       "      <td>0.498729</td>\n",
       "      <td>-0.032637</td>\n",
       "      <td>350.479947</td>\n",
       "      <td>0.0</td>\n",
       "      <td>0.0</td>\n",
       "      <td>0.0</td>\n",
       "      <td>0.0</td>\n",
       "    </tr>\n",
       "    <tr>\n",
       "      <th>2021-12-03</th>\n",
       "      <td>9991</td>\n",
       "      <td>0.025478</td>\n",
       "      <td>0.002525</td>\n",
       "      <td>-0.119734</td>\n",
       "      <td>-0.092571</td>\n",
       "      <td>-0.105856</td>\n",
       "      <td>1.004809</td>\n",
       "      <td>0.947353</td>\n",
       "      <td>0.935747</td>\n",
       "      <td>0.915896</td>\n",
       "      <td>...</td>\n",
       "      <td>1.608986</td>\n",
       "      <td>2.969274e-08</td>\n",
       "      <td>149.319338</td>\n",
       "      <td>0.498729</td>\n",
       "      <td>-0.032637</td>\n",
       "      <td>350.479947</td>\n",
       "      <td>0.0</td>\n",
       "      <td>0.0</td>\n",
       "      <td>0.0</td>\n",
       "      <td>0.0</td>\n",
       "    </tr>\n",
       "    <tr>\n",
       "      <th>2021-12-03</th>\n",
       "      <td>9993</td>\n",
       "      <td>-0.004302</td>\n",
       "      <td>-0.044715</td>\n",
       "      <td>-0.056225</td>\n",
       "      <td>-0.058924</td>\n",
       "      <td>-0.035191</td>\n",
       "      <td>0.972452</td>\n",
       "      <td>0.962284</td>\n",
       "      <td>0.959150</td>\n",
       "      <td>0.953224</td>\n",
       "      <td>...</td>\n",
       "      <td>1.608986</td>\n",
       "      <td>2.969274e-08</td>\n",
       "      <td>149.319338</td>\n",
       "      <td>0.498729</td>\n",
       "      <td>-0.032637</td>\n",
       "      <td>350.479947</td>\n",
       "      <td>0.0</td>\n",
       "      <td>0.0</td>\n",
       "      <td>0.0</td>\n",
       "      <td>0.0</td>\n",
       "    </tr>\n",
       "    <tr>\n",
       "      <th>2021-12-03</th>\n",
       "      <td>9994</td>\n",
       "      <td>0.009098</td>\n",
       "      <td>-0.006653</td>\n",
       "      <td>-0.054236</td>\n",
       "      <td>0.000000</td>\n",
       "      <td>0.035544</td>\n",
       "      <td>1.005471</td>\n",
       "      <td>0.993688</td>\n",
       "      <td>0.987345</td>\n",
       "      <td>0.983978</td>\n",
       "      <td>...</td>\n",
       "      <td>1.608986</td>\n",
       "      <td>2.969274e-08</td>\n",
       "      <td>149.319338</td>\n",
       "      <td>0.498729</td>\n",
       "      <td>-0.032637</td>\n",
       "      <td>350.479947</td>\n",
       "      <td>0.0</td>\n",
       "      <td>0.0</td>\n",
       "      <td>0.0</td>\n",
       "      <td>0.0</td>\n",
       "    </tr>\n",
       "    <tr>\n",
       "      <th>2021-12-03</th>\n",
       "      <td>9997</td>\n",
       "      <td>0.018414</td>\n",
       "      <td>-0.027933</td>\n",
       "      <td>-0.195376</td>\n",
       "      <td>-0.112245</td>\n",
       "      <td>-0.242655</td>\n",
       "      <td>1.005054</td>\n",
       "      <td>0.907994</td>\n",
       "      <td>0.890914</td>\n",
       "      <td>0.856229</td>\n",
       "      <td>...</td>\n",
       "      <td>1.608986</td>\n",
       "      <td>2.969274e-08</td>\n",
       "      <td>149.319338</td>\n",
       "      <td>0.498729</td>\n",
       "      <td>-0.032637</td>\n",
       "      <td>350.479947</td>\n",
       "      <td>0.0</td>\n",
       "      <td>0.0</td>\n",
       "      <td>0.0</td>\n",
       "      <td>0.0</td>\n",
       "    </tr>\n",
       "  </tbody>\n",
       "</table>\n",
       "<p>5 rows × 31 columns</p>\n",
       "</div>"
      ],
      "text/plain": [
       "            SecuritiesCode    Target  return_10d  return_60d  return_70d  \\\n",
       "Date                                                                       \n",
       "2021-12-03            9990  0.034816   -0.067138   -0.052065   -0.020408   \n",
       "2021-12-03            9991  0.025478    0.002525   -0.119734   -0.092571   \n",
       "2021-12-03            9993 -0.004302   -0.044715   -0.056225   -0.058924   \n",
       "2021-12-03            9994  0.009098   -0.006653   -0.054236    0.000000   \n",
       "2021-12-03            9997  0.018414   -0.027933   -0.195376   -0.112245   \n",
       "\n",
       "            return_90d    MA_10d    MA_40d    MA_50d    MA_90d  ...  \\\n",
       "Date                                                            ...   \n",
       "2021-12-03   -0.128713  0.981778  0.937375  0.936104  0.935249  ...   \n",
       "2021-12-03   -0.105856  1.004809  0.947353  0.935747  0.915896  ...   \n",
       "2021-12-03   -0.035191  0.972452  0.962284  0.959150  0.953224  ...   \n",
       "2021-12-03    0.035544  1.005471  0.993688  0.987345  0.983978  ...   \n",
       "2021-12-03   -0.242655  1.005054  0.907994  0.890914  0.856229  ...   \n",
       "\n",
       "            putcall_ratio         gamma        vega     delta     theta  \\\n",
       "Date                                                                      \n",
       "2021-12-03       1.608986  2.969274e-08  149.319338  0.498729 -0.032637   \n",
       "2021-12-03       1.608986  2.969274e-08  149.319338  0.498729 -0.032637   \n",
       "2021-12-03       1.608986  2.969274e-08  149.319338  0.498729 -0.032637   \n",
       "2021-12-03       1.608986  2.969274e-08  149.319338  0.498729 -0.032637   \n",
       "2021-12-03       1.608986  2.969274e-08  149.319338  0.498729 -0.032637   \n",
       "\n",
       "            open_interest  is_acc_other_changed  is_sub_changed  \\\n",
       "Date                                                              \n",
       "2021-12-03     350.479947                   0.0             0.0   \n",
       "2021-12-03     350.479947                   0.0             0.0   \n",
       "2021-12-03     350.479947                   0.0             0.0   \n",
       "2021-12-03     350.479947                   0.0             0.0   \n",
       "2021-12-03     350.479947                   0.0             0.0   \n",
       "\n",
       "            is_acc_changed  is_acc_est  \n",
       "Date                                    \n",
       "2021-12-03             0.0         0.0  \n",
       "2021-12-03             0.0         0.0  \n",
       "2021-12-03             0.0         0.0  \n",
       "2021-12-03             0.0         0.0  \n",
       "2021-12-03             0.0         0.0  \n",
       "\n",
       "[5 rows x 31 columns]"
      ]
     },
     "execution_count": 5,
     "metadata": {},
     "output_type": "execute_result"
    }
   ],
   "source": [
    "feats.tail()"
   ]
  },
  {
   "cell_type": "code",
   "execution_count": 86,
   "metadata": {},
   "outputs": [],
   "source": [
    "del options_df\n",
    "del stock_df\n",
    "del financials_df\n",
    "del underlying_etf"
   ]
  },
  {
   "cell_type": "markdown",
   "metadata": {},
   "source": [
    "# Dataset\n",
    "2017-2020 as train data, 2021 as validation data, test file from 2021-12-06 to 2022-06-22 as test data."
   ]
  },
  {
   "cell_type": "markdown",
   "metadata": {},
   "source": [
    "## Train and val of all features"
   ]
  },
  {
   "cell_type": "code",
   "execution_count": 6,
   "metadata": {},
   "outputs": [],
   "source": [
    "trainval_dataset = feats.drop([\"SecuritiesCode\"], axis=1).dropna()\n",
    "features = list(trainval_dataset.columns)\n",
    "features.remove('Target')\n",
    "\n",
    "x_trainval = trainval_dataset[features]\n",
    "y_trainval = trainval_dataset[\"Target\"]"
   ]
  },
  {
   "cell_type": "code",
   "execution_count": 7,
   "metadata": {},
   "outputs": [],
   "source": [
    "scaler = preprocessing.StandardScaler()\n",
    "x_trainval = scaler.fit_transform(x_trainval)"
   ]
  },
  {
   "cell_type": "code",
   "execution_count": 8,
   "metadata": {},
   "outputs": [],
   "source": [
    "x_train = x_trainval[:1768537]  # 2017-03-31 : 2020-12-31\n",
    "y_train = y_trainval.values[:1768537]\n",
    "x_val = x_trainval[1768537:]  # 2021-01-01 : 2021-12-04\n",
    "y_val = y_trainval.values[1768537:]"
   ]
  },
  {
   "cell_type": "code",
   "execution_count": 9,
   "metadata": {
    "scrolled": false
   },
   "outputs": [
    {
     "data": {
      "text/plain": [
       "['return_10d',\n",
       " 'return_60d',\n",
       " 'return_70d',\n",
       " 'return_90d',\n",
       " 'MA_10d',\n",
       " 'MA_40d',\n",
       " 'MA_50d',\n",
       " 'MA_90d',\n",
       " 'volatility_20d',\n",
       " 'volatility_50d',\n",
       " 'volatility_60d',\n",
       " 'volatility_80d',\n",
       " 'moneyness',\n",
       " 'strike_vol',\n",
       " 'liquidity',\n",
       " 'historical_vol',\n",
       " 'implied_vol',\n",
       " 'implied_vol_skewness',\n",
       " 'trading_volume',\n",
       " 'putcall_ratio',\n",
       " 'gamma',\n",
       " 'vega',\n",
       " 'delta',\n",
       " 'theta',\n",
       " 'open_interest',\n",
       " 'is_acc_other_changed',\n",
       " 'is_sub_changed',\n",
       " 'is_acc_changed',\n",
       " 'is_acc_est']"
      ]
     },
     "execution_count": 9,
     "metadata": {},
     "output_type": "execute_result"
    }
   ],
   "source": [
    "features"
   ]
  },
  {
   "cell_type": "markdown",
   "metadata": {},
   "source": [
    "We have 29 features now."
   ]
  },
  {
   "cell_type": "markdown",
   "metadata": {},
   "source": [
    "## Train and Val of stock features"
   ]
  },
  {
   "cell_type": "code",
   "execution_count": 24,
   "metadata": {},
   "outputs": [],
   "source": [
    "features_stock = list(features[:12])\n",
    "\n",
    "x_stock_trainval = trainval_dataset[features_stock]\n",
    "y_stock_trainval = trainval_dataset[\"Target\"]"
   ]
  },
  {
   "cell_type": "code",
   "execution_count": 25,
   "metadata": {},
   "outputs": [],
   "source": [
    "scaler_stock = preprocessing.StandardScaler()\n",
    "x_stock_trainval = scaler_stock.fit_transform(x_stock_trainval)\n",
    "\n",
    "x_stock_train = x_stock_trainval[:1768537]  # 2017-03-31 : 2020-12-31\n",
    "y_stock_train = y_stock_trainval.values[:1768537]\n",
    "x_stock_val = x_stock_trainval[1768537:]  # 2021-01-01 : 2021-12-04\n",
    "y_stock_val = y_stock_trainval.values[1768537:]"
   ]
  },
  {
   "cell_type": "code",
   "execution_count": 26,
   "metadata": {},
   "outputs": [
    {
     "data": {
      "text/plain": [
       "['return_10d',\n",
       " 'return_60d',\n",
       " 'return_70d',\n",
       " 'return_90d',\n",
       " 'MA_10d',\n",
       " 'MA_40d',\n",
       " 'MA_50d',\n",
       " 'MA_90d',\n",
       " 'volatility_20d',\n",
       " 'volatility_50d',\n",
       " 'volatility_60d',\n",
       " 'volatility_80d']"
      ]
     },
     "execution_count": 26,
     "metadata": {},
     "output_type": "execute_result"
    }
   ],
   "source": [
    "features_stock"
   ]
  },
  {
   "cell_type": "markdown",
   "metadata": {},
   "source": [
    "## Train and Val of option features"
   ]
  },
  {
   "cell_type": "code",
   "execution_count": 27,
   "metadata": {},
   "outputs": [
    {
     "data": {
      "text/plain": [
       "['moneyness',\n",
       " 'strike_vol',\n",
       " 'liquidity',\n",
       " 'historical_vol',\n",
       " 'implied_vol',\n",
       " 'implied_vol_skewness',\n",
       " 'trading_volume',\n",
       " 'putcall_ratio',\n",
       " 'gamma',\n",
       " 'vega',\n",
       " 'delta',\n",
       " 'theta',\n",
       " 'open_interest']"
      ]
     },
     "execution_count": 27,
     "metadata": {},
     "output_type": "execute_result"
    }
   ],
   "source": [
    "features_option = list(features[12:-4])\n",
    "\n",
    "x_option_trainval = trainval_dataset[features_option]\n",
    "y_option_trainval = trainval_dataset[\"Target\"]\n",
    "\n",
    "scaler_option = preprocessing.StandardScaler()\n",
    "x_option_trainval = scaler_option.fit_transform(x_option_trainval)\n",
    "\n",
    "x_option_train = x_option_trainval[:1768537]  # 2017-03-31 : 2020-12-31\n",
    "y_option_train = y_option_trainval.values[:1768537]\n",
    "x_option_val = x_option_trainval[1768537:]  # 2021-01-01 : 2021-12-04\n",
    "y_option_val = y_option_trainval.values[1768537:]\n",
    "\n",
    "features_option"
   ]
  },
  {
   "cell_type": "markdown",
   "metadata": {},
   "source": [
    "## Train and Val of stock and option features"
   ]
  },
  {
   "cell_type": "code",
   "execution_count": 29,
   "metadata": {},
   "outputs": [
    {
     "data": {
      "text/plain": [
       "['return_10d',\n",
       " 'return_60d',\n",
       " 'return_70d',\n",
       " 'return_90d',\n",
       " 'MA_10d',\n",
       " 'MA_40d',\n",
       " 'MA_50d',\n",
       " 'MA_90d',\n",
       " 'volatility_20d',\n",
       " 'volatility_50d',\n",
       " 'volatility_60d',\n",
       " 'volatility_80d',\n",
       " 'moneyness',\n",
       " 'strike_vol',\n",
       " 'liquidity',\n",
       " 'historical_vol',\n",
       " 'implied_vol',\n",
       " 'implied_vol_skewness',\n",
       " 'trading_volume',\n",
       " 'putcall_ratio',\n",
       " 'gamma',\n",
       " 'vega',\n",
       " 'delta',\n",
       " 'theta',\n",
       " 'open_interest']"
      ]
     },
     "execution_count": 29,
     "metadata": {},
     "output_type": "execute_result"
    }
   ],
   "source": [
    "features_so = list(features[:-4])\n",
    "\n",
    "x_so_trainval = trainval_dataset[features_so]\n",
    "y_so_trainval = trainval_dataset[\"Target\"]\n",
    "\n",
    "scaler_so = preprocessing.StandardScaler()\n",
    "x_so_trainval = scaler_so.fit_transform(x_so_trainval)\n",
    "\n",
    "x_so_train = x_so_trainval[:1768537]  # 2017-03-31 : 2020-12-31\n",
    "y_so_train = y_so_trainval.values[:1768537]\n",
    "x_so_val = x_so_trainval[1768537:]  # 2021-01-01 : 2021-12-04\n",
    "y_so_val = y_so_trainval.values[1768537:]\n",
    "\n",
    "features_so"
   ]
  },
  {
   "cell_type": "markdown",
   "metadata": {},
   "source": [
    "# Model"
   ]
  },
  {
   "cell_type": "markdown",
   "metadata": {},
   "source": [
    "## LightGBM"
   ]
  },
  {
   "cell_type": "code",
   "execution_count": 22,
   "metadata": {},
   "outputs": [],
   "source": [
    "def plot_importance(importances, features_names=features, PLOT_TOP_N=10, figsize=(10, 10)):\n",
    "    importance_df = pd.DataFrame(data=importances, columns=features_names)\n",
    "    sorted_indices = importance_df.median(axis=0).sort_values(ascending=False).index\n",
    "    sorted_importance_df = importance_df.loc[:, sorted_indices]\n",
    "    plot_cols = sorted_importance_df.columns[:PLOT_TOP_N]\n",
    "    _, ax = plt.subplots(figsize=figsize)\n",
    "    ax.grid()\n",
    "    ax.set_xscale('log')\n",
    "    ax.set_ylabel('Feature')\n",
    "    ax.set_xlabel('Importance')\n",
    "    sns.boxplot(data=sorted_importance_df[plot_cols],\n",
    "                orient='h',\n",
    "                ax=ax)\n",
    "    plt.show()"
   ]
  },
  {
   "cell_type": "code",
   "execution_count": 33,
   "metadata": {},
   "outputs": [],
   "source": [
    "def feval_corr(y_pred, lgb_train):\n",
    "    y_true = lgb_train.get_label()\n",
    "    return 'corr', np.abs(stats.pearsonr(y_true, y_pred)[0]), True"
   ]
  },
  {
   "cell_type": "markdown",
   "metadata": {},
   "source": [
    "### Train by all features"
   ]
  },
  {
   "cell_type": "code",
   "execution_count": 12,
   "metadata": {},
   "outputs": [],
   "source": [
    "tr_dataset = lgb.Dataset(x_train, y_train, feature_name=features)\n",
    "vl_dataset = lgb.Dataset(x_val, y_val, feature_name=features)"
   ]
  },
  {
   "cell_type": "code",
   "execution_count": 19,
   "metadata": {},
   "outputs": [],
   "source": [
    "params_lgb = {'learning_rate': 0.01,\n",
    "              'metric': 'None',\n",
    "              'objective': 'regression',\n",
    "              'boosting': 'gbdt',\n",
    "              'verbosity': 0,\n",
    "              'n_jobs': -1,\n",
    "              'force_col_wise':True}  "
   ]
  },
  {
   "cell_type": "code",
   "execution_count": 20,
   "metadata": {},
   "outputs": [
    {
     "name": "stdout",
     "output_type": "stream",
     "text": [
      "Training until validation scores don't improve for 300 rounds\n",
      "[25]\ttrain's corr: 0.341582\tvalidation's corr: 0.0132439\n",
      "[50]\ttrain's corr: 0.3518\tvalidation's corr: 0.0147995\n",
      "[75]\ttrain's corr: 0.364026\tvalidation's corr: 0.0148046\n",
      "[100]\ttrain's corr: 0.377332\tvalidation's corr: 0.0160062\n",
      "[100]\ttrain's corr: 0.377332\tvalidation's corr: 0.0160062\n",
      "[125]\ttrain's corr: 0.388658\tvalidation's corr: 0.0224575\n",
      "[150]\ttrain's corr: 0.399221\tvalidation's corr: 0.0227257\n",
      "[175]\ttrain's corr: 0.408029\tvalidation's corr: 0.0312898\n",
      "[200]\ttrain's corr: 0.416125\tvalidation's corr: 0.033919\n",
      "[200]\ttrain's corr: 0.416125\tvalidation's corr: 0.033919\n",
      "[225]\ttrain's corr: 0.424519\tvalidation's corr: 0.0320467\n",
      "[250]\ttrain's corr: 0.431628\tvalidation's corr: 0.0362485\n",
      "[275]\ttrain's corr: 0.438094\tvalidation's corr: 0.0422234\n",
      "[300]\ttrain's corr: 0.443128\tvalidation's corr: 0.0483369\n",
      "[300]\ttrain's corr: 0.443128\tvalidation's corr: 0.0483369\n",
      "[325]\ttrain's corr: 0.448636\tvalidation's corr: 0.0487231\n",
      "[350]\ttrain's corr: 0.453375\tvalidation's corr: 0.0495627\n",
      "[375]\ttrain's corr: 0.457312\tvalidation's corr: 0.0512395\n",
      "[400]\ttrain's corr: 0.461004\tvalidation's corr: 0.0512439\n",
      "[400]\ttrain's corr: 0.461004\tvalidation's corr: 0.0512439\n",
      "[425]\ttrain's corr: 0.464476\tvalidation's corr: 0.0499753\n",
      "[450]\ttrain's corr: 0.467354\tvalidation's corr: 0.0492614\n",
      "[475]\ttrain's corr: 0.470191\tvalidation's corr: 0.0487136\n",
      "[500]\ttrain's corr: 0.472834\tvalidation's corr: 0.0483432\n",
      "[500]\ttrain's corr: 0.472834\tvalidation's corr: 0.0483432\n",
      "[525]\ttrain's corr: 0.475291\tvalidation's corr: 0.0472779\n",
      "[550]\ttrain's corr: 0.477407\tvalidation's corr: 0.0454016\n",
      "[575]\ttrain's corr: 0.479416\tvalidation's corr: 0.0449309\n",
      "[600]\ttrain's corr: 0.481338\tvalidation's corr: 0.0446579\n",
      "[600]\ttrain's corr: 0.481338\tvalidation's corr: 0.0446579\n",
      "[625]\ttrain's corr: 0.483065\tvalidation's corr: 0.0439456\n",
      "[650]\ttrain's corr: 0.484615\tvalidation's corr: 0.043104\n",
      "[675]\ttrain's corr: 0.48602\tvalidation's corr: 0.0426376\n",
      "Early stopping, best iteration is:\n",
      "[396]\ttrain's corr: 0.460462\tvalidation's corr: 0.0513796\n"
     ]
    }
   ],
   "source": [
    "model = lgb.train(params=params_lgb,\n",
    "                  train_set=tr_dataset,\n",
    "                  valid_sets=[tr_dataset, vl_dataset],\n",
    "                  valid_names=['train', 'validation'],\n",
    "                  num_boost_round=5000,\n",
    "                  verbose_eval=100,\n",
    "                  feval=feval_corr,\n",
    "                  callbacks=[lgb.early_stopping(stopping_rounds=300, verbose=True), lgb.log_evaluation(period=25)])"
   ]
  },
  {
   "cell_type": "code",
   "execution_count": 23,
   "metadata": {},
   "outputs": [
    {
     "data": {
      "image/png": "[encoded data removed]",
      "text/plain": [
       "<Figure size 1000x500 with 1 Axes>"
      ]
     },
     "metadata": {},
     "output_type": "display_data"
    }
   ],
   "source": [
    "importance = [model.feature_importance(importance_type='gain')]\n",
    "plot_importance(np.array(importance), features, PLOT_TOP_N=20, figsize=(10, 5))"
   ]
  },
  {
   "cell_type": "markdown",
   "metadata": {},
   "source": [
    "### Train by stock features"
   ]
  },
  {
   "cell_type": "code",
   "execution_count": 30,
   "metadata": {},
   "outputs": [],
   "source": [
    "tr_dataset = lgb.Dataset(x_stock_train, y_stock_train, feature_name=features_stock)\n",
    "vl_dataset = lgb.Dataset(x_stock_val, y_stock_val, feature_name=features_stock)"
   ]
  },
  {
   "cell_type": "code",
   "execution_count": 31,
   "metadata": {},
   "outputs": [],
   "source": [
    "params_lgb = {'learning_rate': 0.01,\n",
    "              'metric': 'None',\n",
    "              'objective': 'regression',\n",
    "              'boosting': 'gbdt',\n",
    "              'verbosity': 0,\n",
    "              'n_jobs': -1,\n",
    "              'force_col_wise':True}  "
   ]
  },
  {
   "cell_type": "code",
   "execution_count": 34,
   "metadata": {
    "scrolled": false
   },
   "outputs": [
    {
     "name": "stdout",
     "output_type": "stream",
     "text": [
      "Training until validation scores don't improve for 300 rounds\n",
      "[25]\ttrain's corr: 0.0948794\tvalidation's corr: 0.00464056\n",
      "[50]\ttrain's corr: 0.102537\tvalidation's corr: 0.00549034\n",
      "[75]\ttrain's corr: 0.106647\tvalidation's corr: 0.00575782\n",
      "[100]\ttrain's corr: 0.110501\tvalidation's corr: 0.00664953\n",
      "[100]\ttrain's corr: 0.110501\tvalidation's corr: 0.00664953\n",
      "[125]\ttrain's corr: 0.11406\tvalidation's corr: 0.00712884\n",
      "[150]\ttrain's corr: 0.118759\tvalidation's corr: 0.0079138\n",
      "[175]\ttrain's corr: 0.122779\tvalidation's corr: 0.00874987\n",
      "[200]\ttrain's corr: 0.125755\tvalidation's corr: 0.00921271\n",
      "[200]\ttrain's corr: 0.125755\tvalidation's corr: 0.00921271\n",
      "[225]\ttrain's corr: 0.128108\tvalidation's corr: 0.00956738\n",
      "[250]\ttrain's corr: 0.130066\tvalidation's corr: 0.0098316\n",
      "[275]\ttrain's corr: 0.131788\tvalidation's corr: 0.0100495\n",
      "[300]\ttrain's corr: 0.133651\tvalidation's corr: 0.0103048\n",
      "[300]\ttrain's corr: 0.133651\tvalidation's corr: 0.0103048\n",
      "[325]\ttrain's corr: 0.135428\tvalidation's corr: 0.0104886\n",
      "[350]\ttrain's corr: 0.137006\tvalidation's corr: 0.0107204\n",
      "[375]\ttrain's corr: 0.138468\tvalidation's corr: 0.0109403\n",
      "[400]\ttrain's corr: 0.139755\tvalidation's corr: 0.0111851\n",
      "[400]\ttrain's corr: 0.139755\tvalidation's corr: 0.0111851\n",
      "[425]\ttrain's corr: 0.141167\tvalidation's corr: 0.0113989\n",
      "[450]\ttrain's corr: 0.142524\tvalidation's corr: 0.0116067\n",
      "[475]\ttrain's corr: 0.143815\tvalidation's corr: 0.0117886\n",
      "[500]\ttrain's corr: 0.145011\tvalidation's corr: 0.0120097\n",
      "[500]\ttrain's corr: 0.145011\tvalidation's corr: 0.0120097\n",
      "[525]\ttrain's corr: 0.146136\tvalidation's corr: 0.0120934\n",
      "[550]\ttrain's corr: 0.147207\tvalidation's corr: 0.0120958\n",
      "[575]\ttrain's corr: 0.148218\tvalidation's corr: 0.0122085\n",
      "[600]\ttrain's corr: 0.149153\tvalidation's corr: 0.0122578\n",
      "[600]\ttrain's corr: 0.149153\tvalidation's corr: 0.0122578\n",
      "[625]\ttrain's corr: 0.150185\tvalidation's corr: 0.0123415\n",
      "[650]\ttrain's corr: 0.151132\tvalidation's corr: 0.0123932\n",
      "[675]\ttrain's corr: 0.152154\tvalidation's corr: 0.0124252\n",
      "[700]\ttrain's corr: 0.153047\tvalidation's corr: 0.012477\n",
      "[700]\ttrain's corr: 0.153047\tvalidation's corr: 0.012477\n",
      "[725]\ttrain's corr: 0.153962\tvalidation's corr: 0.0124899\n",
      "[750]\ttrain's corr: 0.154913\tvalidation's corr: 0.0125021\n",
      "[775]\ttrain's corr: 0.155807\tvalidation's corr: 0.0125428\n",
      "[800]\ttrain's corr: 0.156661\tvalidation's corr: 0.0125318\n",
      "[800]\ttrain's corr: 0.156661\tvalidation's corr: 0.0125318\n",
      "[825]\ttrain's corr: 0.15751\tvalidation's corr: 0.0124342\n",
      "[850]\ttrain's corr: 0.158354\tvalidation's corr: 0.0123618\n",
      "[875]\ttrain's corr: 0.15918\tvalidation's corr: 0.0122449\n",
      "[900]\ttrain's corr: 0.159986\tvalidation's corr: 0.0121555\n",
      "[900]\ttrain's corr: 0.159986\tvalidation's corr: 0.0121555\n",
      "[925]\ttrain's corr: 0.160781\tvalidation's corr: 0.0120177\n",
      "[950]\ttrain's corr: 0.161578\tvalidation's corr: 0.0119306\n",
      "[975]\ttrain's corr: 0.162362\tvalidation's corr: 0.0118185\n",
      "[1000]\ttrain's corr: 0.163139\tvalidation's corr: 0.0118184\n",
      "[1000]\ttrain's corr: 0.163139\tvalidation's corr: 0.0118184\n",
      "[1025]\ttrain's corr: 0.163978\tvalidation's corr: 0.0118153\n",
      "[1050]\ttrain's corr: 0.164752\tvalidation's corr: 0.0118171\n",
      "[1075]\ttrain's corr: 0.165549\tvalidation's corr: 0.0117591\n",
      "Early stopping, best iteration is:\n",
      "[775]\ttrain's corr: 0.155807\tvalidation's corr: 0.0125428\n"
     ]
    }
   ],
   "source": [
    "model = lgb.train(params=params_lgb,\n",
    "                  train_set=tr_dataset,\n",
    "                  valid_sets=[tr_dataset, vl_dataset],\n",
    "                  valid_names=['train', 'validation'],\n",
    "                  num_boost_round=5000,\n",
    "                  verbose_eval=100,\n",
    "                  feval=feval_corr,\n",
    "                  callbacks=[lgb.early_stopping(stopping_rounds=300, verbose=True), lgb.log_evaluation(period=25)])"
   ]
  },
  {
   "cell_type": "code",
   "execution_count": 36,
   "metadata": {},
   "outputs": [
    {
     "data": {
      "image/png": "[encoded data removed]",
      "text/plain": [
       "<Figure size 1000x500 with 1 Axes>"
      ]
     },
     "metadata": {},
     "output_type": "display_data"
    }
   ],
   "source": [
    "importance = [model.feature_importance(importance_type='gain')]\n",
    "plot_importance(np.array(importance), features_stock, PLOT_TOP_N=20, figsize=(10, 5))"
   ]
  },
  {
   "cell_type": "markdown",
   "metadata": {},
   "source": [
    "### Train by option features"
   ]
  },
  {
   "cell_type": "code",
   "execution_count": 37,
   "metadata": {},
   "outputs": [],
   "source": [
    "tr_dataset = lgb.Dataset(x_option_train, y_option_train, feature_name=features_option)\n",
    "vl_dataset = lgb.Dataset(x_option_val, y_option_val, feature_name=features_option)"
   ]
  },
  {
   "cell_type": "code",
   "execution_count": 38,
   "metadata": {},
   "outputs": [],
   "source": [
    "params_lgb = {'learning_rate': 0.01,\n",
    "              'metric': 'None',\n",
    "              'objective': 'regression',\n",
    "              'boosting': 'gbdt',\n",
    "              'verbosity': 0,\n",
    "              'n_jobs': -1,\n",
    "              'force_col_wise':True}  "
   ]
  },
  {
   "cell_type": "code",
   "execution_count": 39,
   "metadata": {},
   "outputs": [
    {
     "name": "stdout",
     "output_type": "stream",
     "text": [
      "Training until validation scores don't improve for 300 rounds\n",
      "[25]\ttrain's corr: 0.3408\tvalidation's corr: 0.0075832\n",
      "[50]\ttrain's corr: 0.351806\tvalidation's corr: 0.00561168\n",
      "[75]\ttrain's corr: 0.364655\tvalidation's corr: 0.0072343\n",
      "[100]\ttrain's corr: 0.379237\tvalidation's corr: 0.0080316\n",
      "[100]\ttrain's corr: 0.379237\tvalidation's corr: 0.0080316\n",
      "[125]\ttrain's corr: 0.388677\tvalidation's corr: 0.0150427\n",
      "[150]\ttrain's corr: 0.3985\tvalidation's corr: 0.0241002\n",
      "[175]\ttrain's corr: 0.407732\tvalidation's corr: 0.0339291\n",
      "[200]\ttrain's corr: 0.41473\tvalidation's corr: 0.0345158\n",
      "[200]\ttrain's corr: 0.41473\tvalidation's corr: 0.0345158\n",
      "[225]\ttrain's corr: 0.422567\tvalidation's corr: 0.0360889\n",
      "[250]\ttrain's corr: 0.429166\tvalidation's corr: 0.0381578\n",
      "[275]\ttrain's corr: 0.434755\tvalidation's corr: 0.042224\n",
      "[300]\ttrain's corr: 0.439483\tvalidation's corr: 0.0433671\n",
      "[300]\ttrain's corr: 0.439483\tvalidation's corr: 0.0433671\n",
      "[325]\ttrain's corr: 0.443925\tvalidation's corr: 0.0469407\n",
      "[350]\ttrain's corr: 0.448139\tvalidation's corr: 0.0481606\n",
      "[375]\ttrain's corr: 0.451798\tvalidation's corr: 0.0495389\n",
      "[400]\ttrain's corr: 0.454745\tvalidation's corr: 0.0529285\n",
      "[400]\ttrain's corr: 0.454745\tvalidation's corr: 0.0529285\n",
      "[425]\ttrain's corr: 0.457332\tvalidation's corr: 0.0512654\n",
      "[450]\ttrain's corr: 0.459594\tvalidation's corr: 0.0508355\n",
      "[475]\ttrain's corr: 0.462056\tvalidation's corr: 0.049846\n",
      "[500]\ttrain's corr: 0.463976\tvalidation's corr: 0.0488582\n",
      "[500]\ttrain's corr: 0.463976\tvalidation's corr: 0.0488582\n",
      "[525]\ttrain's corr: 0.465827\tvalidation's corr: 0.0470635\n",
      "[550]\ttrain's corr: 0.467564\tvalidation's corr: 0.0462867\n",
      "[575]\ttrain's corr: 0.468989\tvalidation's corr: 0.0462151\n",
      "[600]\ttrain's corr: 0.47036\tvalidation's corr: 0.0455881\n",
      "[600]\ttrain's corr: 0.47036\tvalidation's corr: 0.0455881\n",
      "[625]\ttrain's corr: 0.471486\tvalidation's corr: 0.0453988\n",
      "[650]\ttrain's corr: 0.472486\tvalidation's corr: 0.0456556\n",
      "[675]\ttrain's corr: 0.473534\tvalidation's corr: 0.045953\n",
      "Early stopping, best iteration is:\n",
      "[397]\ttrain's corr: 0.454293\tvalidation's corr: 0.0536029\n"
     ]
    }
   ],
   "source": [
    "model = lgb.train(params=params_lgb,\n",
    "                  train_set=tr_dataset,\n",
    "                  valid_sets=[tr_dataset, vl_dataset],\n",
    "                  valid_names=['train', 'validation'],\n",
    "                  num_boost_round=5000,\n",
    "                  verbose_eval=100,\n",
    "                  feval=feval_corr,\n",
    "                  callbacks=[lgb.early_stopping(stopping_rounds=300, verbose=True), lgb.log_evaluation(period=25)])"
   ]
  },
  {
   "cell_type": "code",
   "execution_count": 40,
   "metadata": {},
   "outputs": [
    {
     "data": {
      "image/png": "[encoded data removed]",
      "text/plain": [
       "<Figure size 1000x500 with 1 Axes>"
      ]
     },
     "metadata": {},
     "output_type": "display_data"
    }
   ],
   "source": [
    "importance = [model.feature_importance(importance_type='gain')]\n",
    "plot_importance(np.array(importance), features_option, PLOT_TOP_N=20, figsize=(10, 5))"
   ]
  },
  {
   "cell_type": "markdown",
   "metadata": {},
   "source": [
    "## Train by stock and option features"
   ]
  },
  {
   "cell_type": "code",
   "execution_count": 41,
   "metadata": {},
   "outputs": [],
   "source": [
    "tr_dataset = lgb.Dataset(x_so_train, y_so_train, feature_name=features_so)\n",
    "vl_dataset = lgb.Dataset(x_so_val, y_so_val, feature_name=features_so)"
   ]
  },
  {
   "cell_type": "code",
   "execution_count": 42,
   "metadata": {},
   "outputs": [],
   "source": [
    "params_lgb = {'learning_rate': 0.01,\n",
    "              'metric': 'None',\n",
    "              'objective': 'regression',\n",
    "              'boosting': 'gbdt',\n",
    "              'verbosity': 0,\n",
    "              'n_jobs': -1,\n",
    "              'force_col_wise':True}  "
   ]
  },
  {
   "cell_type": "code",
   "execution_count": 43,
   "metadata": {},
   "outputs": [
    {
     "name": "stdout",
     "output_type": "stream",
     "text": [
      "Training until validation scores don't improve for 300 rounds\n",
      "[25]\ttrain's corr: 0.341582\tvalidation's corr: 0.0132439\n",
      "[50]\ttrain's corr: 0.3518\tvalidation's corr: 0.0147995\n",
      "[75]\ttrain's corr: 0.364026\tvalidation's corr: 0.0148046\n",
      "[100]\ttrain's corr: 0.377332\tvalidation's corr: 0.0160062\n",
      "[100]\ttrain's corr: 0.377332\tvalidation's corr: 0.0160062\n",
      "[125]\ttrain's corr: 0.388658\tvalidation's corr: 0.0224575\n",
      "[150]\ttrain's corr: 0.399221\tvalidation's corr: 0.0227257\n",
      "[175]\ttrain's corr: 0.408029\tvalidation's corr: 0.0312898\n",
      "[200]\ttrain's corr: 0.416125\tvalidation's corr: 0.033919\n",
      "[200]\ttrain's corr: 0.416125\tvalidation's corr: 0.033919\n",
      "[225]\ttrain's corr: 0.424519\tvalidation's corr: 0.0320467\n",
      "[250]\ttrain's corr: 0.431628\tvalidation's corr: 0.0362485\n",
      "[275]\ttrain's corr: 0.438094\tvalidation's corr: 0.0422234\n",
      "[300]\ttrain's corr: 0.443128\tvalidation's corr: 0.0483369\n",
      "[300]\ttrain's corr: 0.443128\tvalidation's corr: 0.0483369\n",
      "[325]\ttrain's corr: 0.448636\tvalidation's corr: 0.0487231\n",
      "[350]\ttrain's corr: 0.453375\tvalidation's corr: 0.0495627\n",
      "[375]\ttrain's corr: 0.457312\tvalidation's corr: 0.0512395\n",
      "[400]\ttrain's corr: 0.461004\tvalidation's corr: 0.0512439\n",
      "[400]\ttrain's corr: 0.461004\tvalidation's corr: 0.0512439\n",
      "[425]\ttrain's corr: 0.464476\tvalidation's corr: 0.0499753\n",
      "[450]\ttrain's corr: 0.467354\tvalidation's corr: 0.0492614\n",
      "[475]\ttrain's corr: 0.470191\tvalidation's corr: 0.0487136\n",
      "[500]\ttrain's corr: 0.472834\tvalidation's corr: 0.0483432\n",
      "[500]\ttrain's corr: 0.472834\tvalidation's corr: 0.0483432\n",
      "[525]\ttrain's corr: 0.475291\tvalidation's corr: 0.0472779\n",
      "[550]\ttrain's corr: 0.477407\tvalidation's corr: 0.0454016\n",
      "[575]\ttrain's corr: 0.479416\tvalidation's corr: 0.0449309\n",
      "[600]\ttrain's corr: 0.481338\tvalidation's corr: 0.0446579\n",
      "[600]\ttrain's corr: 0.481338\tvalidation's corr: 0.0446579\n",
      "[625]\ttrain's corr: 0.483065\tvalidation's corr: 0.0439456\n",
      "[650]\ttrain's corr: 0.484615\tvalidation's corr: 0.043104\n",
      "[675]\ttrain's corr: 0.48602\tvalidation's corr: 0.0426376\n",
      "Early stopping, best iteration is:\n",
      "[396]\ttrain's corr: 0.460462\tvalidation's corr: 0.0513796\n"
     ]
    }
   ],
   "source": [
    "model = lgb.train(params=params_lgb,\n",
    "                  train_set=tr_dataset,\n",
    "                  valid_sets=[tr_dataset, vl_dataset],\n",
    "                  valid_names=['train', 'validation'],\n",
    "                  num_boost_round=5000,\n",
    "                  verbose_eval=100,\n",
    "                  feval=feval_corr,\n",
    "                  callbacks=[lgb.early_stopping(stopping_rounds=300, verbose=True), lgb.log_evaluation(period=25)])"
   ]
  },
  {
   "cell_type": "code",
   "execution_count": 45,
   "metadata": {},
   "outputs": [
    {
     "data": {
      "image/png": "[encoded data removed]",
      "text/plain": [
       "<Figure size 1000x500 with 1 Axes>"
      ]
     },
     "metadata": {},
     "output_type": "display_data"
    }
   ],
   "source": [
    "importance = [model.feature_importance(importance_type='gain')]\n",
    "plot_importance(np.array(importance), features_so, PLOT_TOP_N=20, figsize=(10, 5))"
   ]
  }
 ],
 "metadata": {
  "kernelspec": {
   "display_name": "math628",
   "language": "python",
   "name": "math628"
  },
  "language_info": {
   "codemirror_mode": {
    "name": "ipython",
    "version": 3
   },
   "file_extension": ".py",
   "mimetype": "text/x-python",
   "name": "python",
   "nbconvert_exporter": "python",
   "pygments_lexer": "ipython3",
   "version": "3.8.13"
  },
  "toc": {
   "base_numbering": 1,
   "nav_menu": {},
   "number_sections": true,
   "sideBar": true,
   "skip_h1_title": false,
   "title_cell": "Table of Contents",
   "title_sidebar": "Contents",
   "toc_cell": false,
   "toc_position": {},
   "toc_section_display": true,
   "toc_window_display": false
  },
  "varInspector": {
   "cols": {
    "lenName": 16,
    "lenType": 16,
    "lenVar": 40
   },
   "kernels_config": {
    "python": {
     "delete_cmd_postfix": "",
     "delete_cmd_prefix": "del ",
     "library": "var_list.py",
     "varRefreshCmd": "print(var_dic_list())"
    },
    "r": {
     "delete_cmd_postfix": ") ",
     "delete_cmd_prefix": "rm(",
     "library": "var_list.r",
     "varRefreshCmd": "cat(var_dic_list()) "
    }
   },
   "position": {
    "height": "254.386px",
    "left": "970.716px",
    "right": "20px",
    "top": "123px",
    "width": "350px"
   },
   "types_to_exclude": [
    "module",
    "function",
    "builtin_function_or_method",
    "instance",
    "_Feature"
   ],
   "window_display": false
  }
 },
 "nbformat": 4,
 "nbformat_minor": 2
}
